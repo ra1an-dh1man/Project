from google.colab import files
uploaded = files.upload()

# Import TensorFlow and hub
import tensorflow as tf
import tensorflow_hub as hub

# Plotting
import matplotlib.pyplot as plt

# some important packages

import numpy as np
import pandas as pd

# scikit-learn
from sklearn.metrics.pairwise import cosine_similarity

from sklearn.neighbors import NearestNeighbors
from sklearn.decomposition import PCA

#accuracy
from sklearn.metrics import accuracy_score

model_url = "https://tfhub.dev/google/universal-sentence-encoder/4"
model = hub.load(model_url)
print('Model Loaded')

def embed(texts):
    return model(texts)

df = pd.read_csv("Top_10000_Movies.csv", engine="python")
df.head()

df = df[["original_title", "overview"]]
df.head()

df = df.dropna()
df = df.reset_index()
df = df[:5500]

titles = list(df['overview'])


titles[:5]

embeddings = embed(titles)
print('The embedding shape is:', embeddings.shape)

pca = PCA(n_components=2)
emb_2d = pca.fit_transform(embeddings)


plt.figure(figsize=(11, 6))
plt.title('Embedding space')
plt.scatter(emb_2d[:, 0], emb_2d[:, 1])
plt.show()

nn = NearestNeighbors(n_neighbors=10)
nn.fit(embeddings)

def recommend(text):
    emb = embed([text])
    neighbors = nn.kneighbors(emb, return_distance=False)[0]
    return df['original_title'].iloc[neighbors].tolist()

print('Recommended Movies:')
recommend("Ironman")

